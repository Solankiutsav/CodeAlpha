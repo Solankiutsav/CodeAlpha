{
  "nbformat": 4,
  "nbformat_minor": 0,
  "metadata": {
    "colab": {
      "provenance": []
    },
    "kernelspec": {
      "name": "python3",
      "display_name": "Python 3"
    },
    "language_info": {
      "name": "python"
    }
  },
  "cells": [
    {
      "cell_type": "markdown",
      "source": [
        "Hello there,\n",
        "Today we are going to build a model in python programming language for generating an random and customized password based on user's choise where it includes the length of password, letters, numeric, digits, special characters etc,\n",
        "and hence last option for exiting this all customize scenerio and hence password will be generated."
      ],
      "metadata": {
        "id": "TxFi4IV5yRpe"
      }
    },
    {
      "cell_type": "code",
      "execution_count": 5,
      "metadata": {
        "id": "scr2OUS1xWe-"
      },
      "outputs": [],
      "source": [
        "#Importing Libraries\n",
        "import string\n",
        "import random"
      ]
    },
    {
      "cell_type": "markdown",
      "source": [
        "Now we had includes library as initial step in our model."
      ],
      "metadata": {
        "id": "cvNc3eQEyPAG"
      }
    },
    {
      "cell_type": "code",
      "source": [
        "# Getting password length\n",
        "length = int(input(\"Enter password length: \"))\n",
        "\n",
        "print('''Choose character set for password from these :\n",
        "         1. Digits\n",
        "         2. Letters\n",
        "         3. Special characters\n",
        "         4. Exit''')\n",
        "\n",
        "characterList = \"\"\n"
      ],
      "metadata": {
        "colab": {
          "base_uri": "https://localhost:8080/"
        },
        "id": "ktBr8Zo1xlL5",
        "outputId": "e9d0f22a-9073-4669-add6-eaa408b465a8"
      },
      "execution_count": 6,
      "outputs": [
        {
          "output_type": "stream",
          "name": "stdout",
          "text": [
            "Enter password length: 12\n",
            "Choose character set for password from these :\n",
            "         1. Digits\n",
            "         2. Letters\n",
            "         3. Special characters\n",
            "         4. Exit\n"
          ]
        }
      ]
    },
    {
      "cell_type": "markdown",
      "source": [
        "As in this step we are accepting the length of the password that user wanna generate and second is the type of password where it includes, 1.Digits, 2. Letters, 3.Special Characters and in 4th step for exit from all scenerios"
      ],
      "metadata": {
        "id": "Ugi2uGk4zDln"
      }
    },
    {
      "cell_type": "code",
      "source": [
        "# Getting character set for password\n",
        "while(True):\n",
        "    choice = int(input(\"Pick a number \"))\n",
        "    if(choice == 1):\n",
        "\n",
        "        # Adding letters to possible characters\n",
        "        characterList += string.ascii_letters\n",
        "    elif(choice == 2):\n",
        "\n",
        "        # Adding digits to possible characters\n",
        "        characterList += string.digits\n",
        "    elif(choice == 3):\n",
        "\n",
        "        # Adding special characters to possible\n",
        "        # characters\n",
        "        characterList += string.punctuation\n",
        "    elif(choice == 4):\n",
        "        break\n",
        "    else:\n",
        "        print(\"Please pick a valid option!\")\n",
        "\n",
        "password = []"
      ],
      "metadata": {
        "colab": {
          "base_uri": "https://localhost:8080/"
        },
        "id": "hCqEkfkkxqM7",
        "outputId": "9c3dd345-2c9c-4c49-8475-176542c10079"
      },
      "execution_count": 7,
      "outputs": [
        {
          "name": "stdout",
          "output_type": "stream",
          "text": [
            "Pick a number 1\n",
            "Pick a number 2\n",
            "Pick a number 3\n",
            "Pick a number 4\n"
          ]
        }
      ]
    },
    {
      "cell_type": "code",
      "source": [
        "for i in range(length):\n",
        "\n",
        "    # Picking a random character from our\n",
        "    # character list\n",
        "    randomchar = random.choice(characterList)\n",
        "\n",
        "    # appending a random character to password\n",
        "    password.append(randomchar)\n",
        "\n",
        "# printing password as a string\n",
        "print(\"The random password is \" + \"\".join(password))"
      ],
      "metadata": {
        "colab": {
          "base_uri": "https://localhost:8080/"
        },
        "id": "d3-R7OnSxv6F",
        "outputId": "9fc2a487-7a45-4422-f857-803ff70094ab"
      },
      "execution_count": 8,
      "outputs": [
        {
          "output_type": "stream",
          "name": "stdout",
          "text": [
            "The random password is 9Z?k5F<zl3vT\n"
          ]
        }
      ]
    },
    {
      "cell_type": "markdown",
      "source": [
        "hence we had successfully coded for the random password generating model and implemented our model with accurate password as an output randomly.\n"
      ],
      "metadata": {
        "id": "8pdy6cPZzesl"
      }
    }
  ]
}